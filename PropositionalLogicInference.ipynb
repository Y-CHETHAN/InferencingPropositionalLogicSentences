{
 "cells": [
  {
   "cell_type": "code",
   "execution_count": 1,
   "metadata": {},
   "outputs": [],
   "source": [
    "from utils import *\n",
    "from logic import *"
   ]
  },
  {
   "cell_type": "markdown",
   "metadata": {},
   "source": [
    "## Operators for Constructing Logical Sentences\n",
    "\n",
    "Here is a table of the operators that can be used to form sentences. Note that we have a problem: we want to use Python operators to make sentences, so that our programs (and our interactive sessions like the one here) will show simple code. But Python does not allow implication arrows as operators, so for now we have to use a more verbose notation that Python does allow: `|'==>'|` instead of just `==>`. Alternately, you can always use the more verbose `Expr` constructor forms:\n",
    "\n",
    "| Operation                | Book | Python Infix Input | Python Output | Python `Expr` Input\n",
    "|--------------------------|----------------------|-------------------------|---|---|\n",
    "| Negation                 | &not; P      | `~P`                       | `~P` | `Expr('~', P)`\n",
    "| And                      | P &and; Q       | `P & Q`                     | `P & Q` | `Expr('&', P, Q)`\n",
    "| Or                       | P &or; Q | `P`<tt> &#124; </tt>`Q`| `P`<tt> &#124; </tt>`Q` | `Expr('`&#124;`', P, Q)`\n",
    "| Inequality (Xor)         | P &ne; Q     | `P ^ Q`                | `P ^ Q`  | `Expr('^', P, Q)`\n",
    "| Implication                  | P &rarr; Q    | `P` <tt>&#124;</tt>`'==>'`<tt>&#124;</tt> `Q`   | `P ==> Q` | `Expr('==>', P, Q)`\n",
    "| Reverse Implication      | Q &larr; P     | `Q` <tt>&#124;</tt>`'<=='`<tt>&#124;</tt> `P`  |`Q <== P` | `Expr('<==', Q, P)`\n",
    "| Equivalence            | P &harr; Q   | `P` <tt>&#124;</tt>`'<=>'`<tt>&#124;</tt> `Q`   |`P <=> Q` | `Expr('<=>', P, Q)`\n",
    "\n"
   ]
  },
  {
   "cell_type": "markdown",
   "metadata": {},
   "source": [
    "https://thiagodnf.github.io/wumpus-world-simulator/"
   ]
  },
  {
   "cell_type": "markdown",
   "metadata": {},
   "source": [
    "![alt text for screen readers](./images/wumpus-world.jpg \"Text to show on mouseover\")"
   ]
  },
  {
   "cell_type": "markdown",
   "metadata": {},
   "source": [
    "![alt text for screen readers](./images/variables.png \"Text to show on mouseover\")"
   ]
  },
  {
   "cell_type": "markdown",
   "metadata": {},
   "source": [
    "## Wumpus World KB"
   ]
  },
  {
   "cell_type": "code",
   "execution_count": 2,
   "metadata": {},
   "outputs": [],
   "source": [
    "wumpus_kb = PropKB()"
   ]
  },
  {
   "cell_type": "code",
   "execution_count": 7,
   "metadata": {},
   "outputs": [],
   "source": [
    "P11,P12,P21,P22,B11,B12,B21,B22,W11,W12,W21,W22,S11,S12,S21,S22,OK11,OK12,OK21,OK22=expr('P11,P12,P21,P22,B11,B12,B21,B22,W11,W12,W21,W22,S11,S12,S21,S22,OK11,OK12,OK21,OK22')"
   ]
  },
  {
   "cell_type": "code",
   "execution_count": 8,
   "metadata": {},
   "outputs": [],
   "source": [
    "wumpus_kb.tell(B11 | '<=>' | ((P12 | P21)))\n",
    "wumpus_kb.tell(B12 | '<=>' | ((P11 | P22)))\n",
    "wumpus_kb.tell(B21 | '<=>' | ((P11 | P22)))\n",
    "wumpus_kb.tell(B22 | '<=>' | ((P21 | P12)))"
   ]
  },
  {
   "cell_type": "code",
   "execution_count": 9,
   "metadata": {},
   "outputs": [],
   "source": [
    "wumpus_kb.tell(S11 | '<=>' | ((W12 | W21)))\n",
    "wumpus_kb.tell(S12 | '<=>' | ((W11 | W22)))\n",
    "wumpus_kb.tell(S21 | '<=>' | ((W11 | W22)))\n",
    "wumpus_kb.tell(S22 | '<=>' | ((W21 | W12)))"
   ]
  },
  {
   "cell_type": "code",
   "execution_count": 10,
   "metadata": {},
   "outputs": [],
   "source": [
    "wumpus_kb.tell(~OK11| '<=>' | ((W11 | P11)))\n",
    "wumpus_kb.tell(~OK12| '<=>' | ((W12 | P12)))\n",
    "wumpus_kb.tell(~OK21| '<=>' | ((W21 | P21)))\n",
    "wumpus_kb.tell(~OK22| '<=>' | ((W22 | P22)))"
   ]
  },
  {
   "cell_type": "code",
   "execution_count": 11,
   "metadata": {},
   "outputs": [
    {
     "data": {
      "text/plain": [
       "[(~P12 | B11),\n",
       " (~P21 | B11),\n",
       " (P12 | P21 | ~B11),\n",
       " (~P11 | B12),\n",
       " (~P22 | B12),\n",
       " (P11 | P22 | ~B12),\n",
       " (~P11 | B21),\n",
       " (~P22 | B21),\n",
       " (P11 | P22 | ~B21),\n",
       " (~P21 | B22),\n",
       " (~P12 | B22),\n",
       " (P21 | P12 | ~B22),\n",
       " (~W12 | S11),\n",
       " (~W21 | S11),\n",
       " (W12 | W21 | ~S11),\n",
       " (~W11 | S12),\n",
       " (~W22 | S12),\n",
       " (W11 | W22 | ~S12),\n",
       " (~W11 | S21),\n",
       " (~W22 | S21),\n",
       " (W11 | W22 | ~S21),\n",
       " (~W21 | S22),\n",
       " (~W12 | S22),\n",
       " (W21 | W12 | ~S22),\n",
       " (~W11 | ~OK11),\n",
       " (~P11 | ~OK11),\n",
       " (W11 | P11 | OK11),\n",
       " (~W12 | ~OK12),\n",
       " (~P12 | ~OK12),\n",
       " (W12 | P12 | OK12),\n",
       " (~W21 | ~OK21),\n",
       " (~P21 | ~OK21),\n",
       " (W21 | P21 | OK21),\n",
       " (~W22 | ~OK22),\n",
       " (~P22 | ~OK22),\n",
       " (W22 | P22 | OK22)]"
      ]
     },
     "execution_count": 11,
     "metadata": {},
     "output_type": "execute_result"
    }
   ],
   "source": [
    "wumpus_kb.clauses"
   ]
  },
  {
   "cell_type": "markdown",
   "metadata": {},
   "source": [
    "### A 2x2 wumpus world is implemented from the below environment"
   ]
  },
  {
   "cell_type": "markdown",
   "metadata": {},
   "source": [
    "![alt text for screen readers](./images/world.jpeg \"3x3 world\")"
   ]
  },
  {
   "cell_type": "code",
   "execution_count": 12,
   "metadata": {},
   "outputs": [],
   "source": [
    "# 1,1\n",
    "wumpus_kb.tell(~P11)\n",
    "wumpus_kb.tell(~W11)\n",
    "wumpus_kb.tell(~S11)\n",
    "wumpus_kb.tell(~B11)"
   ]
  },
  {
   "cell_type": "code",
   "execution_count": 13,
   "metadata": {},
   "outputs": [],
   "source": [
    "# 2,1\n",
    "wumpus_kb.tell(~P21)\n",
    "wumpus_kb.tell(~W21)\n",
    "wumpus_kb.tell(S21)\n",
    "wumpus_kb.tell(~B21)"
   ]
  },
  {
   "cell_type": "code",
   "execution_count": 14,
   "metadata": {},
   "outputs": [],
   "source": [
    "# 1,2\n",
    "wumpus_kb.tell(~P12)\n",
    "wumpus_kb.tell(~W12)\n",
    "wumpus_kb.tell(~S12)\n",
    "wumpus_kb.tell(~B12)"
   ]
  },
  {
   "cell_type": "code",
   "execution_count": 15,
   "metadata": {},
   "outputs": [],
   "source": [
    "# 2,2\n",
    "wumpus_kb.tell(~P22)\n",
    "wumpus_kb.tell(~W22)\n",
    "wumpus_kb.tell(~S22)\n",
    "wumpus_kb.tell(~B22)"
   ]
  },
  {
   "cell_type": "code",
   "execution_count": 16,
   "metadata": {},
   "outputs": [
    {
     "data": {
      "text/plain": [
       "True"
      ]
     },
     "execution_count": 16,
     "metadata": {},
     "output_type": "execute_result"
    }
   ],
   "source": [
    "wumpus_kb.ask_if_true(OK22)"
   ]
  }
 ],
 "metadata": {
  "kernelspec": {
   "display_name": "Python 3 (ipykernel)",
   "language": "python",
   "name": "python3"
  },
  "language_info": {
   "codemirror_mode": {
    "name": "ipython",
    "version": 3
   },
   "file_extension": ".py",
   "mimetype": "text/x-python",
   "name": "python",
   "nbconvert_exporter": "python",
   "pygments_lexer": "ipython3",
   "version": "3.9.7"
  },
  "vscode": {
   "interpreter": {
    "hash": "367420236152cb6c898d653af277ac09c496e9c6d105fe2a08d60c061a19c7c7"
   }
  }
 },
 "nbformat": 4,
 "nbformat_minor": 4
}
